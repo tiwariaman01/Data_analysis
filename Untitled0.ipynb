{
  "nbformat": 4,
  "nbformat_minor": 0,
  "metadata": {
    "colab": {
      "provenance": [],
      "authorship_tag": "ABX9TyOv9sByt5mbJJGDG6kS1Z5c",
      "include_colab_link": true
    },
    "kernelspec": {
      "name": "python3",
      "display_name": "Python 3"
    },
    "language_info": {
      "name": "python"
    }
  },
  "cells": [
    {
      "cell_type": "markdown",
      "metadata": {
        "id": "view-in-github",
        "colab_type": "text"
      },
      "source": [
        "<a href=\"https://colab.research.google.com/github/tiwariaman01/Python_practice_repository/blob/main/Untitled0.ipynb\" target=\"_parent\"><img src=\"https://colab.research.google.com/assets/colab-badge.svg\" alt=\"Open In Colab\"/></a>"
      ]
    },
    {
      "cell_type": "code",
      "execution_count": null,
      "metadata": {
        "colab": {
          "base_uri": "https://localhost:8080/"
        },
        "id": "RLt-su0B5h4k",
        "outputId": "314f529b-f35c-40af-b866-0c3756a1949f"
      },
      "outputs": [
        {
          "output_type": "stream",
          "name": "stdout",
          "text": [
            "hello \n"
          ]
        }
      ],
      "source": [
        "print(\"hello \")"
      ]
    },
    {
      "cell_type": "code",
      "source": [
        "mul = 3 * 4\n",
        "print(mul)"
      ],
      "metadata": {
        "colab": {
          "base_uri": "https://localhost:8080/"
        },
        "id": "zTUasIPr5zcn",
        "outputId": "b71c99f8-fafa-4537-d457-fee4b7fa0ec3"
      },
      "execution_count": null,
      "outputs": [
        {
          "output_type": "stream",
          "name": "stdout",
          "text": [
            "12\n"
          ]
        }
      ]
    },
    {
      "cell_type": "code",
      "source": [
        "from google.colab import drive\n",
        "drive.mount('/content/drive')"
      ],
      "metadata": {
        "id": "tmvVww9o--B5"
      },
      "execution_count": null,
      "outputs": []
    },
    {
      "cell_type": "markdown",
      "source": [
        "# lets make function\n"
      ],
      "metadata": {
        "id": "gFS5ptPX6M_6"
      }
    },
    {
      "cell_type": "code",
      "source": [
        "def factorial(point):\n",
        "  n = 1\n",
        "  for val in range(1,point):\n",
        "    n *= val\n",
        "  return n\n",
        "\n",
        "\n",
        "\n",
        "print(factorial(9))"
      ],
      "metadata": {
        "colab": {
          "base_uri": "https://localhost:8080/"
        },
        "id": "NWDW6uaf6ahB",
        "outputId": "163f2bae-ff4c-4eea-d67a-98b40b93b469"
      },
      "execution_count": null,
      "outputs": [
        {
          "output_type": "stream",
          "name": "stdout",
          "text": [
            "40320\n"
          ]
        }
      ]
    },
    {
      "cell_type": "code",
      "source": [
        "from typing import NamedTuple\n",
        "class Student :\n",
        "  def __init__(self,name ,roll_no):\n",
        "    self.name = name\n",
        "    self.roll_no = roll_no\n",
        "\n",
        "\n",
        "    print(name,\" \",roll_no)\n",
        "\n",
        "  def mark(self):\n",
        "    if (self.name == \"aman\"):\n",
        "\n",
        "      print(\"student is great and intelligent\")\n",
        "\n",
        "\n",
        "\n",
        "\n",
        "stu1 = Student(\"aman\",123)\n",
        "stu1.mark()\n",
        "\n",
        "\n",
        "\n",
        "\n"
      ],
      "metadata": {
        "colab": {
          "base_uri": "https://localhost:8080/"
        },
        "id": "Uy_6QlV-86mT",
        "outputId": "3cd49c8b-5e64-4959-9f07-0ce425f5aa9b"
      },
      "execution_count": null,
      "outputs": [
        {
          "output_type": "stream",
          "name": "stdout",
          "text": [
            "aman   123\n",
            "student is great and intelligent\n"
          ]
        }
      ]
    }
  ]
}